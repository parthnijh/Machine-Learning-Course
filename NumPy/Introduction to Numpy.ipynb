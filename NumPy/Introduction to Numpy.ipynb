{
 "cells": [
  {
   "cell_type": "code",
   "execution_count": 1,
   "id": "b4470741-d0fe-47cc-b292-7df498153331",
   "metadata": {},
   "outputs": [],
   "source": [
    "import  numpy as np"
   ]
  },
  {
   "cell_type": "markdown",
   "id": "6e950f2f-a696-4b13-a5c8-7dc8f630f14e",
   "metadata": {},
   "source": [
    "## DataTypes AND Attributes\n"
   ]
  },
  {
   "cell_type": "code",
   "execution_count": 5,
   "id": "39d12bfa-f47c-465c-8a1e-76a6a1d3540c",
   "metadata": {},
   "outputs": [
    {
     "data": {
      "text/plain": [
       "numpy.ndarray"
      ]
     },
     "execution_count": 5,
     "metadata": {},
     "output_type": "execute_result"
    }
   ],
   "source": [
    "## numpy main datatype is ndarray i.e n dimensional array\n",
    "a1=np.array([1,2,3,4])\n",
    "a1\n",
    "type(a1)"
   ]
  },
  {
   "cell_type": "code",
   "execution_count": 6,
   "id": "735de30f-ec5f-4e02-9bf1-02ed296aaee8",
   "metadata": {},
   "outputs": [
    {
     "data": {
      "text/plain": [
       "array([[1, 2, 3],\n",
       "       [4, 5, 6]])"
      ]
     },
     "execution_count": 6,
     "metadata": {},
     "output_type": "execute_result"
    }
   ],
   "source": [
    "a2=np.array([[1,2,3],[4,5,6]])\n",
    "a2"
   ]
  },
  {
   "cell_type": "code",
   "execution_count": 47,
   "id": "b0534dc2-ca6a-4c60-8a2a-2ca3d6771299",
   "metadata": {},
   "outputs": [
    {
     "data": {
      "text/plain": [
       "array([[[ 1,  2,  3],\n",
       "        [ 4,  5,  6],\n",
       "        [ 7,  8,  9]],\n",
       "\n",
       "       [[10, 11, 12],\n",
       "        [13, 14, 15],\n",
       "        [16, 17, 18]]])"
      ]
     },
     "execution_count": 47,
     "metadata": {},
     "output_type": "execute_result"
    }
   ],
   "source": [
    "a3=np.array([[[1,2,3],[4,5,6],[7,8,9]],[[10,11,12],[13,14,15],[16,17,18]]])\n",
    "a3"
   ]
  },
  {
   "cell_type": "code",
   "execution_count": 9,
   "id": "7b9333bd-6e9b-45f3-aa35-8d4aa28a3190",
   "metadata": {},
   "outputs": [
    {
     "data": {
      "text/plain": [
       "(4,)"
      ]
     },
     "execution_count": 9,
     "metadata": {},
     "output_type": "execute_result"
    }
   ],
   "source": [
    "##shape\n",
    "a1.shape\n"
   ]
  },
  {
   "cell_type": "code",
   "execution_count": 10,
   "id": "c12636ce-9b0d-441d-a300-4fccdc608db0",
   "metadata": {},
   "outputs": [
    {
     "data": {
      "text/plain": [
       "(2, 3)"
      ]
     },
     "execution_count": 10,
     "metadata": {},
     "output_type": "execute_result"
    }
   ],
   "source": [
    "a2.shape\n"
   ]
  },
  {
   "cell_type": "code",
   "execution_count": 11,
   "id": "6acae10e-adec-4426-9bd8-f1b1a4d8878b",
   "metadata": {},
   "outputs": [
    {
     "data": {
      "text/plain": [
       "(1, 6, 3)"
      ]
     },
     "execution_count": 11,
     "metadata": {},
     "output_type": "execute_result"
    }
   ],
   "source": [
    "\n",
    "a3.shape"
   ]
  },
  {
   "cell_type": "code",
   "execution_count": 12,
   "id": "c091c718-0622-48ea-83b4-d2826b7ec382",
   "metadata": {},
   "outputs": [
    {
     "data": {
      "text/plain": [
       "4"
      ]
     },
     "execution_count": 12,
     "metadata": {},
     "output_type": "execute_result"
    }
   ],
   "source": [
    "##size\n",
    "a1.size"
   ]
  },
  {
   "cell_type": "code",
   "execution_count": 13,
   "id": "ab1d351e-ff9b-4a99-9ea9-3426978cb537",
   "metadata": {},
   "outputs": [
    {
     "data": {
      "text/plain": [
       "6"
      ]
     },
     "execution_count": 13,
     "metadata": {},
     "output_type": "execute_result"
    }
   ],
   "source": [
    "a2.size"
   ]
  },
  {
   "cell_type": "code",
   "execution_count": 14,
   "id": "6c7a2bdf-7e2e-4f6f-b11b-c18e5ef47419",
   "metadata": {},
   "outputs": [
    {
     "data": {
      "text/plain": [
       "18"
      ]
     },
     "execution_count": 14,
     "metadata": {},
     "output_type": "execute_result"
    }
   ],
   "source": [
    "a3.size"
   ]
  },
  {
   "cell_type": "code",
   "execution_count": 15,
   "id": "d563c0ce-8cd1-49d4-92ac-cf2dbe650a34",
   "metadata": {},
   "outputs": [
    {
     "data": {
      "text/plain": [
       "dtype('int64')"
      ]
     },
     "execution_count": 15,
     "metadata": {},
     "output_type": "execute_result"
    }
   ],
   "source": [
    "a1.dtype"
   ]
  },
  {
   "cell_type": "code",
   "execution_count": 16,
   "id": "dff0173d-761e-466b-b85e-9715bfc62dd7",
   "metadata": {},
   "outputs": [
    {
     "data": {
      "text/plain": [
       "dtype('int64')"
      ]
     },
     "execution_count": 16,
     "metadata": {},
     "output_type": "execute_result"
    }
   ],
   "source": [
    "a2.dtype"
   ]
  },
  {
   "cell_type": "code",
   "execution_count": 17,
   "id": "e8914cf6-021c-47fa-b48f-16909351dd0e",
   "metadata": {},
   "outputs": [
    {
     "data": {
      "text/plain": [
       "dtype('int64')"
      ]
     },
     "execution_count": 17,
     "metadata": {},
     "output_type": "execute_result"
    }
   ],
   "source": [
    "a3.dtype"
   ]
  },
  {
   "cell_type": "code",
   "execution_count": 18,
   "id": "1f6476d4-094f-4773-a75c-3fe7aaf2a321",
   "metadata": {},
   "outputs": [
    {
     "data": {
      "text/plain": [
       "1"
      ]
     },
     "execution_count": 18,
     "metadata": {},
     "output_type": "execute_result"
    }
   ],
   "source": [
    "a1.ndim"
   ]
  },
  {
   "cell_type": "code",
   "execution_count": 19,
   "id": "160146a0-7f46-41dc-8d79-44d628d4ea75",
   "metadata": {},
   "outputs": [
    {
     "data": {
      "text/plain": [
       "2"
      ]
     },
     "execution_count": 19,
     "metadata": {},
     "output_type": "execute_result"
    }
   ],
   "source": [
    "a2.ndim"
   ]
  },
  {
   "cell_type": "code",
   "execution_count": 20,
   "id": "9e5cdff3-f734-495c-9c30-fcf6d062c679",
   "metadata": {},
   "outputs": [
    {
     "data": {
      "text/plain": [
       "3"
      ]
     },
     "execution_count": 20,
     "metadata": {},
     "output_type": "execute_result"
    }
   ],
   "source": [
    "a3.ndim"
   ]
  },
  {
   "cell_type": "code",
   "execution_count": 22,
   "id": "57021259-0f50-4fd3-9065-d54ba1286e7b",
   "metadata": {},
   "outputs": [
    {
     "data": {
      "text/html": [
       "<div>\n",
       "<style scoped>\n",
       "    .dataframe tbody tr th:only-of-type {\n",
       "        vertical-align: middle;\n",
       "    }\n",
       "\n",
       "    .dataframe tbody tr th {\n",
       "        vertical-align: top;\n",
       "    }\n",
       "\n",
       "    .dataframe thead th {\n",
       "        text-align: right;\n",
       "    }\n",
       "</style>\n",
       "<table border=\"1\" class=\"dataframe\">\n",
       "  <thead>\n",
       "    <tr style=\"text-align: right;\">\n",
       "      <th></th>\n",
       "      <th>0</th>\n",
       "      <th>1</th>\n",
       "      <th>2</th>\n",
       "    </tr>\n",
       "  </thead>\n",
       "  <tbody>\n",
       "    <tr>\n",
       "      <th>0</th>\n",
       "      <td>1</td>\n",
       "      <td>2</td>\n",
       "      <td>3</td>\n",
       "    </tr>\n",
       "    <tr>\n",
       "      <th>1</th>\n",
       "      <td>4</td>\n",
       "      <td>5</td>\n",
       "      <td>6</td>\n",
       "    </tr>\n",
       "  </tbody>\n",
       "</table>\n",
       "</div>"
      ],
      "text/plain": [
       "   0  1  2\n",
       "0  1  2  3\n",
       "1  4  5  6"
      ]
     },
     "execution_count": 22,
     "metadata": {},
     "output_type": "execute_result"
    }
   ],
   "source": [
    "# creating a dataframe using a numpy array\n",
    "import pandas as pd\n",
    "df=pd.DataFrame(a2)\n",
    "df"
   ]
  },
  {
   "cell_type": "markdown",
   "id": "01074e8e-14f4-4ad9-965d-c8a20edba358",
   "metadata": {},
   "source": [
    "## CREATING ARRAYS"
   ]
  },
  {
   "cell_type": "code",
   "execution_count": 27,
   "id": "566a1be8-84dd-424f-a356-1072c1fe9e8a",
   "metadata": {},
   "outputs": [
    {
     "data": {
      "text/plain": [
       "array([[1, 1, 1],\n",
       "       [1, 1, 1]])"
      ]
     },
     "execution_count": 27,
     "metadata": {},
     "output_type": "execute_result"
    }
   ],
   "source": [
    "## CREATE AN ARRAY FILLED WITH ONES\n",
    "ones=np.ones((2,3),dtype=\"int\")\n",
    "ones"
   ]
  },
  {
   "cell_type": "code",
   "execution_count": 30,
   "id": "bca4a3f6-331c-404a-8ac3-4df5f1e1ca86",
   "metadata": {},
   "outputs": [
    {
     "data": {
      "text/plain": [
       "array([[0., 0., 0.],\n",
       "       [0., 0., 0.]])"
      ]
     },
     "execution_count": 30,
     "metadata": {},
     "output_type": "execute_result"
    }
   ],
   "source": [
    "## CREATE AN ARRAY FILLED WITH ZEROES\n",
    "zeroes=np.zeros((2,3))\n",
    "zeroes"
   ]
  },
  {
   "cell_type": "code",
   "execution_count": 31,
   "id": "8a8424da-c32d-4500-88ad-3f05148028b1",
   "metadata": {},
   "outputs": [
    {
     "data": {
      "text/plain": [
       "array([0, 2, 4, 6, 8])"
      ]
     },
     "execution_count": 31,
     "metadata": {},
     "output_type": "execute_result"
    }
   ],
   "source": [
    "## CREATE AN ARRAY WITH A PARTICULAR RANGE\n",
    "rangarray=np.arange(0,10,2)\n",
    "rangarray"
   ]
  },
  {
   "cell_type": "code",
   "execution_count": 36,
   "id": "1fd42213-1a65-436e-b045-153db90f28fc",
   "metadata": {},
   "outputs": [
    {
     "data": {
      "text/plain": [
       "array([[9, 5, 3, 8, 1],\n",
       "       [7, 6, 5, 9, 3],\n",
       "       [5, 2, 8, 1, 7]], dtype=int32)"
      ]
     },
     "execution_count": 36,
     "metadata": {},
     "output_type": "execute_result"
    }
   ],
   "source": [
    "##Creating a random array\n",
    "randm=np.random.randint(1,10,(3,5))\n",
    "randm"
   ]
  },
  {
   "cell_type": "code",
   "execution_count": 34,
   "id": "5f2afdb1-af01-4be0-b41c-4d279e78bfd6",
   "metadata": {},
   "outputs": [
    {
     "data": {
      "text/plain": [
       "array([[0.57838101, 0.8348507 ],\n",
       "       [0.85378302, 0.77155727]])"
      ]
     },
     "execution_count": 34,
     "metadata": {},
     "output_type": "execute_result"
    }
   ],
   "source": [
    "np.random.random(size=(2,2)) ## bw 0 and 1"
   ]
  },
  {
   "cell_type": "code",
   "execution_count": 35,
   "id": "aa8642e1-d9e8-4704-ad5d-a1b32dded5ef",
   "metadata": {},
   "outputs": [
    {
     "data": {
      "text/plain": [
       "array([[0.86482094, 0.83173081, 0.84116133]])"
      ]
     },
     "execution_count": 35,
     "metadata": {},
     "output_type": "execute_result"
    }
   ],
   "source": [
    "np.random.rand(1,3)"
   ]
  },
  {
   "cell_type": "code",
   "execution_count": 38,
   "id": "6525661e-f9c0-4b70-911d-50dea682d28b",
   "metadata": {},
   "outputs": [
    {
     "data": {
      "text/plain": [
       "array([[5, 0],\n",
       "       [3, 3]], dtype=int32)"
      ]
     },
     "execution_count": 38,
     "metadata": {},
     "output_type": "execute_result"
    }
   ],
   "source": [
    "## Random seed\n",
    "np.random.seed(0)\n",
    "np.random.randint(0,10,(2,2))"
   ]
  },
  {
   "cell_type": "markdown",
   "id": "252d1b79-2f3d-4446-aa58-7bbb30b5c150",
   "metadata": {},
   "source": [
    "## VIEWING ARRAY AND MATRICES"
   ]
  },
  {
   "cell_type": "code",
   "execution_count": 43,
   "id": "6cb631c7-0fc8-40ab-af39-635be2ba3598",
   "metadata": {},
   "outputs": [
    {
     "data": {
      "text/plain": [
       "array([[5, 0, 3],\n",
       "       [3, 7, 9]], dtype=int32)"
      ]
     },
     "execution_count": 43,
     "metadata": {},
     "output_type": "execute_result"
    }
   ],
   "source": [
    "np.random.seed(0)\n",
    "randomarr=np.random.randint(0,10,(2,3))\n",
    "randomarr\n",
    "\n",
    "                            "
   ]
  },
  {
   "cell_type": "code",
   "execution_count": 45,
   "id": "4897916b-e169-4b53-bfbb-a0ece4f2802d",
   "metadata": {},
   "outputs": [
    {
     "data": {
      "text/plain": [
       "array([0, 3, 5, 7, 9], dtype=int32)"
      ]
     },
     "execution_count": 45,
     "metadata": {},
     "output_type": "execute_result"
    }
   ],
   "source": [
    "np.unique(randomarr,sorted=\"False\")"
   ]
  },
  {
   "cell_type": "code",
   "execution_count": 51,
   "id": "4df942dc-f7a8-40ce-9599-d4978f5aeeef",
   "metadata": {},
   "outputs": [
    {
     "data": {
      "text/plain": [
       "array([[[ 1,  2,  3],\n",
       "        [ 4,  5,  6],\n",
       "        [ 7,  8,  9]],\n",
       "\n",
       "       [[10, 11, 12],\n",
       "        [13, 14, 15],\n",
       "        [16, 17, 18]]])"
      ]
     },
     "execution_count": 51,
     "metadata": {},
     "output_type": "execute_result"
    }
   ],
   "source": [
    "a3"
   ]
  },
  {
   "cell_type": "code",
   "execution_count": 52,
   "id": "b26732a2-c2c0-4670-907d-c5b85a7846ef",
   "metadata": {},
   "outputs": [
    {
     "data": {
      "text/plain": [
       "np.int64(16)"
      ]
     },
     "execution_count": 52,
     "metadata": {},
     "output_type": "execute_result"
    }
   ],
   "source": [
    "a3[1][2][0]"
   ]
  },
  {
   "cell_type": "code",
   "execution_count": 61,
   "id": "d0ac5818-9321-41c0-95fd-617af9411d0a",
   "metadata": {},
   "outputs": [
    {
     "data": {
      "text/plain": [
       "array([[10, 11, 12],\n",
       "       [13, 14, 15]])"
      ]
     },
     "execution_count": 61,
     "metadata": {},
     "output_type": "execute_result"
    }
   ],
   "source": [
    "a3[1][:2]"
   ]
  },
  {
   "cell_type": "code",
   "execution_count": 64,
   "id": "5b91a38b-646a-4298-8abb-f0a5e926d1ef",
   "metadata": {},
   "outputs": [
    {
     "data": {
      "text/plain": [
       "array([[[[3, 0, 0, 6, 0],\n",
       "         [6, 3, 3, 8, 8],\n",
       "         [8, 2, 3, 2, 0],\n",
       "         [8, 8, 3, 8, 2]],\n",
       "\n",
       "        [[8, 4, 3, 0, 4],\n",
       "         [3, 6, 9, 8, 0],\n",
       "         [8, 5, 9, 0, 9],\n",
       "         [6, 5, 3, 1, 8]],\n",
       "\n",
       "        [[0, 4, 9, 6, 5],\n",
       "         [7, 8, 8, 9, 2],\n",
       "         [8, 6, 6, 9, 1],\n",
       "         [6, 8, 8, 3, 2]]],\n",
       "\n",
       "\n",
       "       [[[3, 6, 3, 6, 5],\n",
       "         [7, 0, 8, 4, 6],\n",
       "         [5, 8, 2, 3, 9],\n",
       "         [7, 5, 3, 4, 5]],\n",
       "\n",
       "        [[3, 3, 7, 9, 9],\n",
       "         [9, 7, 3, 2, 3],\n",
       "         [9, 7, 7, 5, 1],\n",
       "         [2, 2, 8, 1, 5]],\n",
       "\n",
       "        [[8, 4, 0, 2, 5],\n",
       "         [5, 0, 8, 1, 1],\n",
       "         [0, 3, 8, 8, 4],\n",
       "         [4, 0, 9, 3, 7]]]], dtype=int32)"
      ]
     },
     "execution_count": 64,
     "metadata": {},
     "output_type": "execute_result"
    }
   ],
   "source": [
    "a4=np.random.randint(0,10,(2,3,4,5))\n",
    "a4"
   ]
  },
  {
   "cell_type": "code",
   "execution_count": 67,
   "id": "58b45618-6b0a-4d63-b13e-a1d6a4bcfeac",
   "metadata": {},
   "outputs": [
    {
     "data": {
      "text/plain": [
       "array([[[3, 0, 0, 6, 0],\n",
       "        [6, 3, 3, 8, 8],\n",
       "        [8, 2, 3, 2, 0],\n",
       "        [8, 8, 3, 8, 2]],\n",
       "\n",
       "       [[8, 4, 3, 0, 4],\n",
       "        [3, 6, 9, 8, 0],\n",
       "        [8, 5, 9, 0, 9],\n",
       "        [6, 5, 3, 1, 8]],\n",
       "\n",
       "       [[0, 4, 9, 6, 5],\n",
       "        [7, 8, 8, 9, 2],\n",
       "        [8, 6, 6, 9, 1],\n",
       "        [6, 8, 8, 3, 2]]], dtype=int32)"
      ]
     },
     "execution_count": 67,
     "metadata": {},
     "output_type": "execute_result"
    }
   ],
   "source": [
    "a4[0][:4]"
   ]
  },
  {
   "cell_type": "markdown",
   "id": "86a0e544-f78a-4f3a-94ec-b5a386533758",
   "metadata": {},
   "source": [
    "## Manipulating arrays\n",
    "## ARITHMETIC\n"
   ]
  },
  {
   "cell_type": "code",
   "execution_count": 70,
   "id": "91332859-9bd1-4d40-ba27-75f3dd305898",
   "metadata": {},
   "outputs": [
    {
     "data": {
      "text/plain": [
       "array([[2., 3.],\n",
       "       [4., 5.]])"
      ]
     },
     "execution_count": 70,
     "metadata": {},
     "output_type": "execute_result"
    }
   ],
   "source": [
    "oness=np.ones((2,2))\n",
    "newarray=np.array([[1,2],[3,4]])\n",
    "oness+newarray\n"
   ]
  },
  {
   "cell_type": "code",
   "execution_count": 71,
   "id": "018e543e-fd16-4777-b68d-2db83015c6fa",
   "metadata": {},
   "outputs": [
    {
     "data": {
      "text/plain": [
       "array([[0., 1.],\n",
       "       [2., 3.]])"
      ]
     },
     "execution_count": 71,
     "metadata": {},
     "output_type": "execute_result"
    }
   ],
   "source": [
    "newarray-oness"
   ]
  },
  {
   "cell_type": "code",
   "execution_count": 72,
   "id": "bb53bb6e-1d4d-438f-a875-605b5926608e",
   "metadata": {},
   "outputs": [
    {
     "data": {
      "text/plain": [
       "array([[1., 2.],\n",
       "       [3., 4.]])"
      ]
     },
     "execution_count": 72,
     "metadata": {},
     "output_type": "execute_result"
    }
   ],
   "source": [
    "newarray * oness"
   ]
  },
  {
   "cell_type": "code",
   "execution_count": 73,
   "id": "4c91b93c-551a-4ae0-a467-6290af87f9e9",
   "metadata": {},
   "outputs": [],
   "source": [
    "##multiplication"
   ]
  },
  {
   "cell_type": "code",
   "execution_count": 74,
   "id": "6ab5c78d-a811-4bf2-b21f-cfdaf87367d4",
   "metadata": {},
   "outputs": [
    {
     "data": {
      "text/plain": [
       "array([[1, 2, 3],\n",
       "       [4, 5, 6]])"
      ]
     },
     "execution_count": 74,
     "metadata": {},
     "output_type": "execute_result"
    }
   ],
   "source": [
    "a2"
   ]
  },
  {
   "cell_type": "code",
   "execution_count": 75,
   "id": "fd7348e6-1f78-4163-a03a-7d2c1fe47ba7",
   "metadata": {},
   "outputs": [
    {
     "data": {
      "text/plain": [
       "array([[[ 1,  2,  3],\n",
       "        [ 4,  5,  6],\n",
       "        [ 7,  8,  9]],\n",
       "\n",
       "       [[10, 11, 12],\n",
       "        [13, 14, 15],\n",
       "        [16, 17, 18]]])"
      ]
     },
     "execution_count": 75,
     "metadata": {},
     "output_type": "execute_result"
    }
   ],
   "source": [
    "a3"
   ]
  },
  {
   "cell_type": "code",
   "execution_count": 76,
   "id": "7f49e242-6bd1-4a0b-8e5e-bc2bfb4d8e19",
   "metadata": {},
   "outputs": [
    {
     "ename": "ValueError",
     "evalue": "operands could not be broadcast together with shapes (2,3) (2,3,3) ",
     "output_type": "error",
     "traceback": [
      "\u001b[31m---------------------------------------------------------------------------\u001b[39m",
      "\u001b[31mValueError\u001b[39m                                Traceback (most recent call last)",
      "\u001b[36mCell\u001b[39m\u001b[36m \u001b[39m\u001b[32mIn[76]\u001b[39m\u001b[32m, line 1\u001b[39m\n\u001b[32m----> \u001b[39m\u001b[32m1\u001b[39m a2*a3\n",
      "\u001b[31mValueError\u001b[39m: operands could not be broadcast together with shapes (2,3) (2,3,3) "
     ]
    }
   ],
   "source": [
    "a2*a3"
   ]
  },
  {
   "cell_type": "code",
   "execution_count": 81,
   "id": "6ccab6f3-2766-4dde-9d75-8f69fe4ea50e",
   "metadata": {},
   "outputs": [
    {
     "data": {
      "text/plain": [
       "array([[[  1,   2,   3],\n",
       "        [  8,  10,  12],\n",
       "        [ 21,  24,  27]],\n",
       "\n",
       "       [[ 40,  44,  48],\n",
       "        [ 65,  70,  75],\n",
       "        [ 96, 102, 108]]])"
      ]
     },
     "execution_count": 81,
     "metadata": {},
     "output_type": "execute_result"
    }
   ],
   "source": [
    "## Reshaping\n",
    "a6=a2.reshape(2,3,1)\n",
    "a6*a3"
   ]
  },
  {
   "cell_type": "markdown",
   "id": "c9f8b9a5-11f3-4561-a74c-175ff94c9e7d",
   "metadata": {},
   "source": [
    "## Aggregation\n",
    "Aggregation - bringing things together, doing a similar thing on a number of things."
   ]
  },
  {
   "cell_type": "code",
   "execution_count": 82,
   "id": "a85444f8-77b4-431b-a972-c35eb70b3153",
   "metadata": {},
   "outputs": [
    {
     "data": {
      "text/plain": [
       "array([1, 2, 3, 4])"
      ]
     },
     "execution_count": 82,
     "metadata": {},
     "output_type": "execute_result"
    }
   ],
   "source": [
    "a1"
   ]
  },
  {
   "cell_type": "code",
   "execution_count": 83,
   "id": "7851c4ac-a6a8-4301-ba2f-860c03a86e3e",
   "metadata": {},
   "outputs": [
    {
     "data": {
      "text/plain": [
       "np.int64(10)"
      ]
     },
     "execution_count": 83,
     "metadata": {},
     "output_type": "execute_result"
    }
   ],
   "source": [
    "np.sum(a1)"
   ]
  },
  {
   "cell_type": "code",
   "execution_count": 84,
   "id": "9afb0a10-eefb-4b4b-9150-2a0e4738a8a6",
   "metadata": {},
   "outputs": [
    {
     "data": {
      "text/plain": [
       "np.int64(10)"
      ]
     },
     "execution_count": 84,
     "metadata": {},
     "output_type": "execute_result"
    }
   ],
   "source": [
    "sum(a1)"
   ]
  },
  {
   "cell_type": "markdown",
   "id": "4e481798-19d7-4835-ad29-65bc4d47652b",
   "metadata": {},
   "source": [
    "## pythons sum vs numpy sum\n",
    "use pythons when using python data typpes use numpy wala when using numpy ndarray"
   ]
  },
  {
   "cell_type": "code",
   "execution_count": 86,
   "id": "98f8a767-332f-437f-b2a3-0fb29831bb0b",
   "metadata": {},
   "outputs": [],
   "source": [
    "massivearray=np.random.random(100000)"
   ]
  },
  {
   "cell_type": "code",
   "execution_count": 88,
   "id": "b3b1dd1c-bc1f-484c-9861-b30c0dbe4575",
   "metadata": {},
   "outputs": [
    {
     "data": {
      "text/plain": [
       "array([0.67909062, 0.86428144, 0.75084425, 0.96448977, 0.55424244,\n",
       "       0.2123905 , 0.22244322, 0.21874937, 0.56957353, 0.45210904])"
      ]
     },
     "execution_count": 88,
     "metadata": {},
     "output_type": "execute_result"
    }
   ],
   "source": [
    "massivearray[:10]"
   ]
  },
  {
   "cell_type": "code",
   "execution_count": 89,
   "id": "304be308-c0b0-4ccd-8e8e-e91046afc14e",
   "metadata": {},
   "outputs": [
    {
     "name": "stdout",
     "output_type": "stream",
     "text": [
      "7.55 ms ± 940 μs per loop (mean ± std. dev. of 7 runs, 10 loops each)\n"
     ]
    }
   ],
   "source": [
    "%timeit sum(massivearray)"
   ]
  },
  {
   "cell_type": "code",
   "execution_count": 91,
   "id": "383ce59c-6edd-4b9a-b682-4450ab45ab8a",
   "metadata": {},
   "outputs": [
    {
     "name": "stdout",
     "output_type": "stream",
     "text": [
      "40.7 μs ± 1.78 μs per loop (mean ± std. dev. of 7 runs, 10,000 loops each)\n"
     ]
    }
   ],
   "source": [
    "%timeit np.sum(massivearray)"
   ]
  },
  {
   "cell_type": "code",
   "execution_count": null,
   "id": "083b4899-7d5d-4531-bb8d-e8f095e13041",
   "metadata": {},
   "outputs": [],
   "source": [
    "listy=list([1,2,3,4,5,6,7])\n",
    "listy\n",
    "\n"
   ]
  },
  {
   "cell_type": "code",
   "execution_count": 98,
   "id": "cbbc9a3b-d88a-4332-9f40-ce79af3869cc",
   "metadata": {},
   "outputs": [
    {
     "name": "stdout",
     "output_type": "stream",
     "text": [
      "7.56 μs ± 1.28 μs per loop (mean ± std. dev. of 7 runs, 100,000 loops each)\n"
     ]
    }
   ],
   "source": [
    "%timeit np.sum(listy)"
   ]
  },
  {
   "cell_type": "code",
   "execution_count": 99,
   "id": "530d9420-532c-4212-95ab-85dffcf8c14a",
   "metadata": {},
   "outputs": [
    {
     "name": "stdout",
     "output_type": "stream",
     "text": [
      "101 ns ± 2.76 ns per loop (mean ± std. dev. of 7 runs, 10,000,000 loops each)\n"
     ]
    }
   ],
   "source": [
    "%timeit sum(listy)"
   ]
  },
  {
   "cell_type": "markdown",
   "id": "929ef0a8-9070-41e2-9ef0-71cfa0ec5fc3",
   "metadata": {},
   "source": [
    "## VARIENCE AND STANDARD DEVIATION\n"
   ]
  },
  {
   "cell_type": "code",
   "execution_count": 100,
   "id": "a9e29776-31e8-457a-ba96-75276954c8be",
   "metadata": {},
   "outputs": [
    {
     "data": {
      "text/plain": [
       "np.float64(8.0)"
      ]
     },
     "execution_count": 100,
     "metadata": {},
     "output_type": "execute_result"
    }
   ],
   "source": [
    "AR1=np.array([1,100,300,500,900])\n",
    "AR2=np.array([2,4,6,8,10])\n",
    "np.var(AR1)\n",
    "np.var(AR2)"
   ]
  },
  {
   "cell_type": "code",
   "execution_count": 101,
   "id": "ffe823ea-8dee-4e55-b354-b705511d71e1",
   "metadata": {},
   "outputs": [
    {
     "data": {
      "text/plain": [
       "np.float64(102256.16)"
      ]
     },
     "execution_count": 101,
     "metadata": {},
     "output_type": "execute_result"
    }
   ],
   "source": [
    "np.var(AR1)"
   ]
  },
  {
   "cell_type": "markdown",
   "id": "ceb3d9a4-8b2c-44b9-9a88-6ec4cb77a003",
   "metadata": {},
   "source": [
    "## DOT PRODUCT EXAMPLE"
   ]
  },
  {
   "cell_type": "code",
   "execution_count": 104,
   "id": "c84cf10a-c74d-4b9d-b07d-dfad4f5271e2",
   "metadata": {},
   "outputs": [
    {
     "data": {
      "text/html": [
       "<div>\n",
       "<style scoped>\n",
       "    .dataframe tbody tr th:only-of-type {\n",
       "        vertical-align: middle;\n",
       "    }\n",
       "\n",
       "    .dataframe tbody tr th {\n",
       "        vertical-align: top;\n",
       "    }\n",
       "\n",
       "    .dataframe thead th {\n",
       "        text-align: right;\n",
       "    }\n",
       "</style>\n",
       "<table border=\"1\" class=\"dataframe\">\n",
       "  <thead>\n",
       "    <tr style=\"text-align: right;\">\n",
       "      <th></th>\n",
       "      <th>Almond Butter</th>\n",
       "      <th>Peanut Butter</th>\n",
       "      <th>Cashew Butter</th>\n",
       "    </tr>\n",
       "  </thead>\n",
       "  <tbody>\n",
       "    <tr>\n",
       "      <th>Mon</th>\n",
       "      <td>5</td>\n",
       "      <td>0</td>\n",
       "      <td>3</td>\n",
       "    </tr>\n",
       "    <tr>\n",
       "      <th>Tues</th>\n",
       "      <td>3</td>\n",
       "      <td>7</td>\n",
       "      <td>9</td>\n",
       "    </tr>\n",
       "    <tr>\n",
       "      <th>Wed</th>\n",
       "      <td>3</td>\n",
       "      <td>5</td>\n",
       "      <td>2</td>\n",
       "    </tr>\n",
       "    <tr>\n",
       "      <th>Thurs</th>\n",
       "      <td>4</td>\n",
       "      <td>7</td>\n",
       "      <td>6</td>\n",
       "    </tr>\n",
       "    <tr>\n",
       "      <th>Fri</th>\n",
       "      <td>8</td>\n",
       "      <td>8</td>\n",
       "      <td>1</td>\n",
       "    </tr>\n",
       "  </tbody>\n",
       "</table>\n",
       "</div>"
      ],
      "text/plain": [
       "       Almond Butter  Peanut Butter  Cashew Butter\n",
       "Mon                5              0              3\n",
       "Tues               3              7              9\n",
       "Wed                3              5              2\n",
       "Thurs              4              7              6\n",
       "Fri                8              8              1"
      ]
     },
     "execution_count": 104,
     "metadata": {},
     "output_type": "execute_result"
    }
   ],
   "source": [
    "np.random.seed(0)\n",
    "array1=np.random.randint(0,10,(5,3))\n",
    "import pandas as pd\n",
    "pd.DataFrame(array1,index=[\"Mon\",\"Tues\",\"Wed\",\"Thurs\",\"Fri\"], columns=[\"Almond Butter\",\"Peanut Butter\",\"Cashew Butter\"])"
   ]
  },
  {
   "cell_type": "markdown",
   "id": "fa345029-abf2-4c42-8f6c-222943b711d0",
   "metadata": {},
   "source": [
    "## SORTING"
   ]
  },
  {
   "cell_type": "code",
   "execution_count": 106,
   "id": "faea0e41-e46c-4348-99f6-e46b9622a783",
   "metadata": {},
   "outputs": [
    {
     "data": {
      "text/plain": [
       "array([[6, 7, 7],\n",
       "       [8, 1, 5]], dtype=int32)"
      ]
     },
     "execution_count": 106,
     "metadata": {},
     "output_type": "execute_result"
    }
   ],
   "source": [
    "sortingarray=np.random.randint(0,10,(2,3))\n",
    "sortingarray"
   ]
  },
  {
   "cell_type": "code",
   "execution_count": 107,
   "id": "14e464be-9103-4227-a806-8304eb4925cc",
   "metadata": {},
   "outputs": [
    {
     "data": {
      "text/plain": [
       "array([[6, 7, 7],\n",
       "       [1, 5, 8]], dtype=int32)"
      ]
     },
     "execution_count": 107,
     "metadata": {},
     "output_type": "execute_result"
    }
   ],
   "source": [
    "np.sort(sortingarray)"
   ]
  },
  {
   "cell_type": "code",
   "execution_count": 108,
   "id": "893519c5-b5b4-4e2c-b9f8-aa88f4a435b0",
   "metadata": {},
   "outputs": [
    {
     "data": {
      "text/plain": [
       "array([[6, 7, 7],\n",
       "       [8, 1, 5]], dtype=int32)"
      ]
     },
     "execution_count": 108,
     "metadata": {},
     "output_type": "execute_result"
    }
   ],
   "source": [
    "sortingarray"
   ]
  },
  {
   "cell_type": "code",
   "execution_count": 109,
   "id": "4788d936-9a79-429d-9b17-2921fa58e122",
   "metadata": {},
   "outputs": [
    {
     "data": {
      "text/plain": [
       "array([[0, 1, 2],\n",
       "       [1, 2, 0]])"
      ]
     },
     "execution_count": 109,
     "metadata": {},
     "output_type": "execute_result"
    }
   ],
   "source": [
    "np.argsort(sortingarray)"
   ]
  },
  {
   "cell_type": "code",
   "execution_count": 110,
   "id": "312e84af-f9ba-41bd-9835-6adf3443bd99",
   "metadata": {},
   "outputs": [
    {
     "data": {
      "text/plain": [
       "np.int64(4)"
      ]
     },
     "execution_count": 110,
     "metadata": {},
     "output_type": "execute_result"
    }
   ],
   "source": [
    "np.argmin(sortingarray)"
   ]
  },
  {
   "cell_type": "code",
   "execution_count": 112,
   "id": "2ebe0fc0-ceb1-4084-82d5-f9cf6cbf7c4f",
   "metadata": {},
   "outputs": [
    {
     "data": {
      "text/plain": [
       "np.int64(3)"
      ]
     },
     "execution_count": 112,
     "metadata": {},
     "output_type": "execute_result"
    }
   ],
   "source": [
    "np.argmax(sortingarray)"
   ]
  },
  {
   "cell_type": "code",
   "execution_count": 113,
   "id": "08cc5deb-bf1c-43e2-b95d-7cf9ab64d476",
   "metadata": {},
   "outputs": [
    {
     "data": {
      "text/plain": [
       "array([1, 0, 0])"
      ]
     },
     "execution_count": 113,
     "metadata": {},
     "output_type": "execute_result"
    }
   ],
   "source": [
    "np.argmax(sortingarray,axis=0)"
   ]
  },
  {
   "cell_type": "code",
   "execution_count": 114,
   "id": "55f810c3-9e51-4a0a-b6ca-5078f8ae2672",
   "metadata": {},
   "outputs": [
    {
     "data": {
      "text/plain": [
       "array([1, 0])"
      ]
     },
     "execution_count": 114,
     "metadata": {},
     "output_type": "execute_result"
    }
   ],
   "source": [
    "np.argmax(sortingarray,axis=1)"
   ]
  },
  {
   "cell_type": "markdown",
   "id": "89848075-6c5a-4fe9-83c3-412bdd6135cc",
   "metadata": {},
   "source": [
    "## ARRAY OF IMAGES\n"
   ]
  },
  {
   "cell_type": "code",
   "execution_count": 116,
   "id": "01337f93-77b3-4b71-bb19-3bec340c583a",
   "metadata": {},
   "outputs": [
    {
     "data": {
      "text/plain": [
       "numpy.ndarray"
      ]
     },
     "execution_count": 116,
     "metadata": {},
     "output_type": "execute_result"
    }
   ],
   "source": [
    "from matplotlib.image import imread\n",
    "panda=imread(\"panda.png\")\n",
    "type(panda)"
   ]
  },
  {
   "cell_type": "code",
   "execution_count": 117,
   "id": "4745457f-2edd-44ec-b1b2-bdd6c35893ed",
   "metadata": {},
   "outputs": [
    {
     "data": {
      "text/plain": [
       "array([[[0.05490196, 0.10588235, 0.06666667],\n",
       "        [0.05490196, 0.10588235, 0.06666667],\n",
       "        [0.05490196, 0.10588235, 0.06666667],\n",
       "        ...,\n",
       "        [0.16470589, 0.12941177, 0.09411765],\n",
       "        [0.16470589, 0.12941177, 0.09411765],\n",
       "        [0.16470589, 0.12941177, 0.09411765]],\n",
       "\n",
       "       [[0.05490196, 0.10588235, 0.06666667],\n",
       "        [0.05490196, 0.10588235, 0.06666667],\n",
       "        [0.05490196, 0.10588235, 0.06666667],\n",
       "        ...,\n",
       "        [0.16470589, 0.12941177, 0.09411765],\n",
       "        [0.16470589, 0.12941177, 0.09411765],\n",
       "        [0.16470589, 0.12941177, 0.09411765]],\n",
       "\n",
       "       [[0.05490196, 0.10588235, 0.06666667],\n",
       "        [0.05490196, 0.10588235, 0.06666667],\n",
       "        [0.05490196, 0.10588235, 0.06666667],\n",
       "        ...,\n",
       "        [0.16470589, 0.12941177, 0.09411765],\n",
       "        [0.16470589, 0.12941177, 0.09411765],\n",
       "        [0.16470589, 0.12941177, 0.09411765]],\n",
       "\n",
       "       [[0.05490196, 0.10588235, 0.06666667],\n",
       "        [0.05490196, 0.10588235, 0.06666667],\n",
       "        [0.05490196, 0.10588235, 0.06666667],\n",
       "        ...,\n",
       "        [0.16862746, 0.13333334, 0.09803922],\n",
       "        [0.16862746, 0.13333334, 0.09803922],\n",
       "        [0.16862746, 0.13333334, 0.09803922]],\n",
       "\n",
       "       [[0.05490196, 0.10588235, 0.06666667],\n",
       "        [0.05490196, 0.10588235, 0.06666667],\n",
       "        [0.05490196, 0.10588235, 0.06666667],\n",
       "        ...,\n",
       "        [0.16862746, 0.13333334, 0.09803922],\n",
       "        [0.16862746, 0.13333334, 0.09803922],\n",
       "        [0.16862746, 0.13333334, 0.09803922]]],\n",
       "      shape=(5, 3500, 3), dtype=float32)"
      ]
     },
     "execution_count": 117,
     "metadata": {},
     "output_type": "execute_result"
    }
   ],
   "source": [
    "panda[:5]\n"
   ]
  },
  {
   "cell_type": "code",
   "execution_count": 120,
   "id": "d5658ee6-6868-4314-8a2b-8f3c319992e7",
   "metadata": {},
   "outputs": [
    {
     "data": {
      "text/plain": [
       "(993600, 3, (432, 575, 4), dtype('float32'))"
      ]
     },
     "execution_count": 120,
     "metadata": {},
     "output_type": "execute_result"
    }
   ],
   "source": [
    "dog=imread(\"dog-photo.png\")\n",
    "dog.size,dog.ndim,dog.shape,dog.dtype"
   ]
  },
  {
   "cell_type": "code",
   "execution_count": null,
   "id": "051be6cb-e0de-4a2e-aa70-956d42f97a4c",
   "metadata": {},
   "outputs": [],
   "source": []
  }
 ],
 "metadata": {
  "kernelspec": {
   "display_name": "Python 3 (ipykernel)",
   "language": "python",
   "name": "python3"
  },
  "language_info": {
   "codemirror_mode": {
    "name": "ipython",
    "version": 3
   },
   "file_extension": ".py",
   "mimetype": "text/x-python",
   "name": "python",
   "nbconvert_exporter": "python",
   "pygments_lexer": "ipython3",
   "version": "3.13.5"
  }
 },
 "nbformat": 4,
 "nbformat_minor": 5
}
